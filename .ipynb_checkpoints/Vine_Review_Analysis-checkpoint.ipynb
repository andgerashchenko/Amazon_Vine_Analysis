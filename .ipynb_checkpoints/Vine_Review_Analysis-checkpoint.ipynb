{
 "cells": [
  {
   "cell_type": "code",
   "execution_count": 1,
   "metadata": {
    "colab": {
     "base_uri": "https://localhost:8080/"
    },
    "executionInfo": {
     "elapsed": 27022,
     "status": "ok",
     "timestamp": 1628958768780,
     "user": {
      "displayName": "Andrei Gerashchenko",
      "photoUrl": "https://lh3.googleusercontent.com/a-/AOh14GiMsmAf_fj7m2ae5c9vceebJ_L3xI54ALRxirmCzQ=s64",
      "userId": "13907719580552897752"
     },
     "user_tz": 240
    },
    "id": "f3x6O5TYgJNB",
    "outputId": "3cf005fa-762a-421b-b6bb-4f4fdc67c309"
   },
   "outputs": [
    {
     "name": "stdout",
     "output_type": "stream",
     "text": [
      "\r",
      "0% [Working]\r",
      "            \r",
      "Get:1 http://security.ubuntu.com/ubuntu bionic-security InRelease [88.7 kB]\n",
      "\r",
      "0% [Connecting to archive.ubuntu.com (91.189.88.152)] [1 InRelease 0 B/88.7 kB \r",
      "0% [Waiting for headers] [Connected to cloud.r-project.org (65.8.183.2)] [Waiti\r",
      "0% [1 InRelease gpgv 88.7 kB] [Waiting for headers] [Waiting for headers] [Wait\r",
      "                                                                               \r",
      "Get:2 https://cloud.r-project.org/bin/linux/ubuntu bionic-cran40/ InRelease [3,626 B]\n",
      "Ign:3 https://developer.download.nvidia.com/compute/cuda/repos/ubuntu1804/x86_64  InRelease\n",
      "Hit:4 http://archive.ubuntu.com/ubuntu bionic InRelease\n",
      "Get:5 http://ppa.launchpad.net/c2d4u.team/c2d4u4.0+/ubuntu bionic InRelease [15.9 kB]\n",
      "Ign:6 https://developer.download.nvidia.com/compute/machine-learning/repos/ubuntu1804/x86_64  InRelease\n",
      "Get:7 https://developer.download.nvidia.com/compute/cuda/repos/ubuntu1804/x86_64  Release [697 B]\n",
      "Hit:8 https://developer.download.nvidia.com/compute/machine-learning/repos/ubuntu1804/x86_64  Release\n",
      "Get:9 http://archive.ubuntu.com/ubuntu bionic-updates InRelease [88.7 kB]\n",
      "Get:10 https://developer.download.nvidia.com/compute/cuda/repos/ubuntu1804/x86_64  Release.gpg [836 B]\n",
      "Hit:11 http://ppa.launchpad.net/cran/libgit2/ubuntu bionic InRelease\n",
      "Get:12 http://security.ubuntu.com/ubuntu bionic-security/multiverse amd64 Packages [26.7 kB]\n",
      "Get:13 http://archive.ubuntu.com/ubuntu bionic-backports InRelease [74.6 kB]\n",
      "Get:14 http://security.ubuntu.com/ubuntu bionic-security/universe amd64 Packages [1,421 kB]\n",
      "Get:15 http://ppa.launchpad.net/deadsnakes/ppa/ubuntu bionic InRelease [15.9 kB]\n",
      "Get:16 http://security.ubuntu.com/ubuntu bionic-security/restricted amd64 Packages [510 kB]\n",
      "Get:17 http://security.ubuntu.com/ubuntu bionic-security/main amd64 Packages [2,263 kB]\n",
      "Get:18 http://ppa.launchpad.net/graphics-drivers/ppa/ubuntu bionic InRelease [21.3 kB]\n",
      "Get:19 https://cloud.r-project.org/bin/linux/ubuntu bionic-cran40/ Packages [66.2 kB]\n",
      "Get:21 http://ppa.launchpad.net/c2d4u.team/c2d4u4.0+/ubuntu bionic/main Sources [1,786 kB]\n",
      "Ign:22 https://developer.download.nvidia.com/compute/cuda/repos/ubuntu1804/x86_64  Packages\n",
      "Get:22 https://developer.download.nvidia.com/compute/cuda/repos/ubuntu1804/x86_64  Packages [695 kB]\n",
      "Get:23 http://ppa.launchpad.net/c2d4u.team/c2d4u4.0+/ubuntu bionic/main amd64 Packages [914 kB]\n",
      "Get:24 http://archive.ubuntu.com/ubuntu bionic-updates/restricted amd64 Packages [544 kB]\n",
      "Get:25 http://archive.ubuntu.com/ubuntu bionic-updates/main amd64 Packages [2,699 kB]\n",
      "Get:26 http://archive.ubuntu.com/ubuntu bionic-updates/multiverse amd64 Packages [39.4 kB]\n",
      "Get:27 http://archive.ubuntu.com/ubuntu bionic-updates/universe amd64 Packages [2,196 kB]\n",
      "Get:28 http://ppa.launchpad.net/deadsnakes/ppa/ubuntu bionic/main amd64 Packages [40.9 kB]\n",
      "Get:29 http://ppa.launchpad.net/graphics-drivers/ppa/ubuntu bionic/main amd64 Packages [44.1 kB]\n",
      "Fetched 13.6 MB in 5s (2,581 kB/s)\n",
      "Reading package lists... Done\n"
     ]
    }
   ],
   "source": [
    "import os\n",
    "# Find the latest version of spark 3.0  from http://www.apache.org/dist/spark/ and enter as the spark version\n",
    "# For example:\n",
    "# spark_version = 'spark-3.0.3'\n",
    "spark_version = 'spark-3.1.2'\n",
    "os.environ['SPARK_VERSION']=spark_version\n",
    "\n",
    "# Install Spark and Java\n",
    "!apt-get update\n",
    "!apt-get install openjdk-11-jdk-headless -qq > /dev/null\n",
    "!wget -q http://www.apache.org/dist/spark/$SPARK_VERSION/$SPARK_VERSION-bin-hadoop2.7.tgz\n",
    "!tar xf $SPARK_VERSION-bin-hadoop2.7.tgz\n",
    "!pip install -q findspark\n",
    "\n",
    "# Set Environment Variables\n",
    "import os\n",
    "os.environ[\"JAVA_HOME\"] = \"/usr/lib/jvm/java-11-openjdk-amd64\"\n",
    "os.environ[\"SPARK_HOME\"] = f\"/content/{spark_version}-bin-hadoop2.7\"\n",
    "\n",
    "# Start a SparkSession\n",
    "import findspark\n",
    "findspark.init()"
   ]
  },
  {
   "cell_type": "code",
   "execution_count": 2,
   "metadata": {
    "colab": {
     "base_uri": "https://localhost:8080/"
    },
    "executionInfo": {
     "elapsed": 574,
     "status": "ok",
     "timestamp": 1628958769349,
     "user": {
      "displayName": "Andrei Gerashchenko",
      "photoUrl": "https://lh3.googleusercontent.com/a-/AOh14GiMsmAf_fj7m2ae5c9vceebJ_L3xI54ALRxirmCzQ=s64",
      "userId": "13907719580552897752"
     },
     "user_tz": 240
    },
    "id": "KXEpvCQPgeT_",
    "outputId": "821c7da7-5103-47c0-d9f2-84ca4c546760"
   },
   "outputs": [
    {
     "name": "stdout",
     "output_type": "stream",
     "text": [
      "--2021-08-14 16:32:48--  https://jdbc.postgresql.org/download/postgresql-42.2.16.jar\n",
      "Resolving jdbc.postgresql.org (jdbc.postgresql.org)... 72.32.157.228, 2001:4800:3e1:1::228\n",
      "Connecting to jdbc.postgresql.org (jdbc.postgresql.org)|72.32.157.228|:443... connected.\n",
      "HTTP request sent, awaiting response... 200 OK\n",
      "Length: 1002883 (979K) [application/java-archive]\n",
      "Saving to: ‘postgresql-42.2.16.jar’\n",
      "\n",
      "postgresql-42.2.16. 100%[===================>] 979.38K  --.-KB/s    in 0.1s    \n",
      "\n",
      "2021-08-14 16:32:49 (6.51 MB/s) - ‘postgresql-42.2.16.jar’ saved [1002883/1002883]\n",
      "\n"
     ]
    }
   ],
   "source": [
    "# Download the Postgres driver that will allow Spark to interact with Postgres.\n",
    "!wget https://jdbc.postgresql.org/download/postgresql-42.2.16.jar"
   ]
  },
  {
   "cell_type": "code",
   "execution_count": 3,
   "metadata": {
    "executionInfo": {
     "elapsed": 8318,
     "status": "ok",
     "timestamp": 1628958777664,
     "user": {
      "displayName": "Andrei Gerashchenko",
      "photoUrl": "https://lh3.googleusercontent.com/a-/AOh14GiMsmAf_fj7m2ae5c9vceebJ_L3xI54ALRxirmCzQ=s64",
      "userId": "13907719580552897752"
     },
     "user_tz": 240
    },
    "id": "TYoZuIBkgh2d"
   },
   "outputs": [],
   "source": [
    "from pyspark.sql import SparkSession\n",
    "spark = SparkSession.builder.appName(\"M16-Amazon-Challenge\").config(\"spark.driver.extraClassPath\",\"/content/postgresql-42.2.16.jar\").getOrCreate()"
   ]
  },
  {
   "cell_type": "code",
   "execution_count": 4,
   "metadata": {
    "colab": {
     "base_uri": "https://localhost:8080/"
    },
    "executionInfo": {
     "elapsed": 38586,
     "status": "ok",
     "timestamp": 1628958864608,
     "user": {
      "displayName": "Andrei Gerashchenko",
      "photoUrl": "https://lh3.googleusercontent.com/a-/AOh14GiMsmAf_fj7m2ae5c9vceebJ_L3xI54ALRxirmCzQ=s64",
      "userId": "13907719580552897752"
     },
     "user_tz": 240
    },
    "id": "k0dWQky1gi5u",
    "outputId": "2f4b33ab-9346-43cc-ab63-cd7059a8a893"
   },
   "outputs": [
    {
     "name": "stdout",
     "output_type": "stream",
     "text": [
      "+-----------+-----------+--------------+----------+--------------+--------------------+----------------+-----------+-------------+-----------+----+-----------------+--------------------+--------------------+-----------+\n",
      "|marketplace|customer_id|     review_id|product_id|product_parent|       product_title|product_category|star_rating|helpful_votes|total_votes|vine|verified_purchase|     review_headline|         review_body|review_date|\n",
      "+-----------+-----------+--------------+----------+--------------+--------------------+----------------+-----------+-------------+-----------+----+-----------------+--------------------+--------------------+-----------+\n",
      "|         US|   18446823|R35T75OLUGHL5C|B000NV6H94|     110804376|Stearns Youth Boa...|        Outdoors|          4|            0|          0|   N|                Y|          Four Stars|          GOOD VALUE| 2015-08-31|\n",
      "|         US|   13724367|R2BV735O46BN33|B000IN0W3Y|     624096774|Primal Wear Men's...|        Outdoors|          5|            0|          0|   N|                Y|          Five Stars|  Excellent quality.| 2015-08-31|\n",
      "|         US|   51001958|R2NBEUGPQQGXP1|B008RBJXFM|     278970944|Osprey Hydraulics...|        Outdoors|          4|            0|          0|   N|                Y|Only Flaw Is The Cap|3rd season using ...| 2015-08-31|\n",
      "|         US|   32866903|R17LLAOJ8ITK0S|B00FK8WUQY|     312877650|CamelBak eddy .75...|        Outdoors|          3|            1|          1|   N|                Y|Poor design leads...|poor construction...| 2015-08-31|\n",
      "|         US|   30907790|R39PEQBT5ISEF4|B00EZA3VW0|     305567912|Children Black Re...|        Outdoors|          1|            0|          0|   N|                Y|Very bad quality,...|Very bad quality,...| 2015-08-31|\n",
      "|         US|   20232229|R3GNM3SU9VHJFT|B006JA8WEG|     842306035|Ibera Bicycle Tri...|        Outdoors|          4|            1|          1|   N|                Y|Nice bag. Should ...|Nice bag. Should ...| 2015-08-31|\n",
      "|         US|   17698862| R2Y81OP0EK467|B002PWFSEO|     451480122|Therm-a-Rest Comp...|        Outdoors|          5|            0|          0|   N|                Y|Very comfortable ...|Gave this to my s...| 2015-08-31|\n",
      "|         US|   38486114|R2LFGSI6HAYH5F|B002DZGKHW|     124386306|Sawyer Products P...|        Outdoors|          5|            1|          1|   N|                Y| Worked like a charm|Went on vacation ...| 2015-08-31|\n",
      "|         US|   26319572|R297G6ED1IQO7W|B00ABA08F6|     991442421|Zippo Hand Warmer...|        Outdoors|          5|            1|          1|   N|                Y|Great item. Gets ...|Great item. Gets ...| 2015-08-31|\n",
      "|         US|   27152337| RE27RFC6101N6|B003Z8WIHC|     886483892|Camp Chef Dutch O...|        Outdoors|          5|            0|          0|   N|                Y|Great value for t...|I am so glad I bo...| 2015-08-31|\n",
      "|         US|   12516845|R3BPDME6E94W8Z|B007CP6UK0|     150224054|3CERA Portable Wi...|        Outdoors|          5|            0|          0|   N|                Y|          Five Stars|        good to have| 2015-08-31|\n",
      "|         US|    3225242|R2P08O1RILUOX3|B003V3U9JK|     343847969|Texsport King Kot...|        Outdoors|          3|            0|          0|   N|                Y|Cot set up inconv...|VERY difficult to...| 2015-08-31|\n",
      "|         US|     961839|R37CVAB03PTDVI|B00Y846HN8|     858088629|Wallygadgets 2 Wh...|        Outdoors|          5|            0|          1|   N|                Y|          Five Stars|Thanks excellent ...| 2015-08-31|\n",
      "|         US|   47796452| RAWNWOGXPCPMD|B00IYQ84VY|     474493517|RainStoppers 34-I...|        Outdoors|          5|            0|          0|   N|                Y|          Five Stars|This umbrella is ...| 2015-08-31|\n",
      "|         US|   32004835| R5DYGP6ASX77M|B002MYCKLY|     920014456|Alpha Deluxe Port...|        Outdoors|          5|            0|          0|   N|                Y|          Five Stars|Love it !! I even...| 2015-08-31|\n",
      "|         US|   23972939|R1O0SAOOGF2KG7|B00EZV69JG|     128489321|Speedfil Z4 BTA B...|        Outdoors|          4|            0|          0|   N|                Y|        Good enough.|This is a fine mo...| 2015-08-31|\n",
      "|         US|   40889047|R35NJUT0U3MU3V|B00AWOT3T8|     571303876|O'Brien Kids Plat...|        Outdoors|          5|            0|          0|   N|                Y| Got Up on First Try|We just bought th...| 2015-08-31|\n",
      "|         US|   11244387|R242C08MF9D1AH|B0000AXTID|     739769424|Kwik-Tek F-5R Pla...|        Outdoors|          5|            0|          0|   N|                Y|They go over an a...|I have these on m...| 2015-08-31|\n",
      "|         US|   20121211| R3RYG8TJTO4E2|B00IFHFJXI|     984009972|Ivation Portable ...|        Outdoors|          5|            0|          0|   N|                Y|Greatest Item I b...|This is the best ...| 2015-08-31|\n",
      "|         US|   25657249|R3IKH1DNY0CP9F|B00KFILTWU|     405521681|GreenInsync Repla...|        Outdoors|          2|            0|          0|   N|                Y|I received this p...|I received this p...| 2015-08-31|\n",
      "+-----------+-----------+--------------+----------+--------------+--------------------+----------------+-----------+-------------+-----------+----+-----------------+--------------------+--------------------+-----------+\n",
      "only showing top 20 rows\n",
      "\n"
     ]
    }
   ],
   "source": [
    "from pyspark import SparkFiles\n",
    "url = \"https://s3.amazonaws.com/amazon-reviews-pds/tsv/amazon_reviews_us_Outdoors_v1_00.tsv.gz\"\n",
    "spark.sparkContext.addFile(url)\n",
    "df = spark.read.option(\"encoding\", \"UTF-8\").csv(SparkFiles.get(\"\"), sep=\"\\t\", header=True, inferSchema=True)\n",
    "df.show()"
   ]
  },
  {
   "cell_type": "code",
   "execution_count": 6,
   "metadata": {
    "colab": {
     "base_uri": "https://localhost:8080/"
    },
    "executionInfo": {
     "elapsed": 575,
     "status": "ok",
     "timestamp": 1628958914868,
     "user": {
      "displayName": "Andrei Gerashchenko",
      "photoUrl": "https://lh3.googleusercontent.com/a-/AOh14GiMsmAf_fj7m2ae5c9vceebJ_L3xI54ALRxirmCzQ=s64",
      "userId": "13907719580552897752"
     },
     "user_tz": 240
    },
    "id": "jiuKheSIgi25",
    "outputId": "dd83b658-8a78-4a1e-847c-47ca79d35338"
   },
   "outputs": [
    {
     "name": "stdout",
     "output_type": "stream",
     "text": [
      "+--------------+-----------+-------------+-----------+----+-----------------+\n",
      "|     review_id|star_rating|helpful_votes|total_votes|vine|verified_purchase|\n",
      "+--------------+-----------+-------------+-----------+----+-----------------+\n",
      "|R35T75OLUGHL5C|          4|            0|          0|   N|                Y|\n",
      "|R2BV735O46BN33|          5|            0|          0|   N|                Y|\n",
      "|R2NBEUGPQQGXP1|          4|            0|          0|   N|                Y|\n",
      "|R17LLAOJ8ITK0S|          3|            1|          1|   N|                Y|\n",
      "|R39PEQBT5ISEF4|          1|            0|          0|   N|                Y|\n",
      "|R3GNM3SU9VHJFT|          4|            1|          1|   N|                Y|\n",
      "| R2Y81OP0EK467|          5|            0|          0|   N|                Y|\n",
      "|R2LFGSI6HAYH5F|          5|            1|          1|   N|                Y|\n",
      "|R297G6ED1IQO7W|          5|            1|          1|   N|                Y|\n",
      "| RE27RFC6101N6|          5|            0|          0|   N|                Y|\n",
      "|R3BPDME6E94W8Z|          5|            0|          0|   N|                Y|\n",
      "|R2P08O1RILUOX3|          3|            0|          0|   N|                Y|\n",
      "|R37CVAB03PTDVI|          5|            0|          1|   N|                Y|\n",
      "| RAWNWOGXPCPMD|          5|            0|          0|   N|                Y|\n",
      "| R5DYGP6ASX77M|          5|            0|          0|   N|                Y|\n",
      "|R1O0SAOOGF2KG7|          4|            0|          0|   N|                Y|\n",
      "|R35NJUT0U3MU3V|          5|            0|          0|   N|                Y|\n",
      "|R242C08MF9D1AH|          5|            0|          0|   N|                Y|\n",
      "| R3RYG8TJTO4E2|          5|            0|          0|   N|                Y|\n",
      "|R3IKH1DNY0CP9F|          2|            0|          0|   N|                Y|\n",
      "+--------------+-----------+-------------+-----------+----+-----------------+\n",
      "only showing top 20 rows\n",
      "\n"
     ]
    }
   ],
   "source": [
    "vine_df = df.select([\"review_id\", \"star_rating\", \"helpful_votes\", \"total_votes\", \"vine\", \"verified_purchase\"])\n",
    "vine_df.show()"
   ]
  },
  {
   "cell_type": "code",
   "execution_count": 7,
   "metadata": {
    "colab": {
     "base_uri": "https://localhost:8080/"
    },
    "executionInfo": {
     "elapsed": 869,
     "status": "ok",
     "timestamp": 1628959117838,
     "user": {
      "displayName": "Andrei Gerashchenko",
      "photoUrl": "https://lh3.googleusercontent.com/a-/AOh14GiMsmAf_fj7m2ae5c9vceebJ_L3xI54ALRxirmCzQ=s64",
      "userId": "13907719580552897752"
     },
     "user_tz": 240
    },
    "id": "u8KM9iQ7gi0J",
    "outputId": "e80f03e2-3732-4d17-dae2-b5a309cdb6a5"
   },
   "outputs": [
    {
     "name": "stdout",
     "output_type": "stream",
     "text": [
      "+--------------+-----------+-------------+-----------+----+-----------------+\n",
      "|     review_id|star_rating|helpful_votes|total_votes|vine|verified_purchase|\n",
      "+--------------+-----------+-------------+-----------+----+-----------------+\n",
      "|R2FP3U4NHNFNL2|          5|           25|         29|   N|                Y|\n",
      "|R1UUK1977O38MU|          5|           31|         31|   N|                Y|\n",
      "| RXO216LWUDV6O|          3|           29|         31|   N|                Y|\n",
      "|R3NMJF7EBMM19V|          3|           26|         27|   N|                Y|\n",
      "|R2ZY0ZBDUO0XUY|          3|           20|         21|   N|                Y|\n",
      "| RBDVHX7PMQEKM|          5|           35|         39|   N|                Y|\n",
      "| RGO3KSDXYWTGU|          4|           26|         26|   N|                Y|\n",
      "|R2O4P39D0ALCQK|          2|           14|         43|   N|                Y|\n",
      "|R1E1PQGHWGO3Q1|          1|           89|         96|   N|                Y|\n",
      "|R1XOXXUVYZEDJB|          5|           22|         22|   N|                Y|\n",
      "| R7SHITUU5UG9U|          5|           27|         27|   N|                Y|\n",
      "|R230TLHU91M5Y3|          4|           21|         21|   N|                Y|\n",
      "| RHR5MKO23K9TU|          5|           26|         30|   N|                Y|\n",
      "|R1HGK3TCY161D7|          5|           52|         55|   N|                N|\n",
      "|R340QYAVNZZHJA|          4|           25|         25|   N|                N|\n",
      "|R2F1UVQK0JL4QH|          3|           20|         20|   N|                Y|\n",
      "|R1N21UY546VWMN|          2|           48|         50|   N|                Y|\n",
      "|R1E4L344EK0ZOT|          5|           20|         26|   N|                N|\n",
      "|R282QUZDDJW3ON|          4|           45|         49|   N|                Y|\n",
      "|R3H5T3T7QY3ZL2|          5|          247|        263|   N|                Y|\n",
      "+--------------+-----------+-------------+-----------+----+-----------------+\n",
      "only showing top 20 rows\n",
      "\n"
     ]
    }
   ],
   "source": [
    "vine_df_filtered = vine_df.filter(\"total_votes>=20\")\n",
    "vine_df_filtered.show()"
   ]
  },
  {
   "cell_type": "code",
   "execution_count": 11,
   "metadata": {
    "colab": {
     "base_uri": "https://localhost:8080/"
    },
    "executionInfo": {
     "elapsed": 547,
     "status": "ok",
     "timestamp": 1628959539860,
     "user": {
      "displayName": "Andrei Gerashchenko",
      "photoUrl": "https://lh3.googleusercontent.com/a-/AOh14GiMsmAf_fj7m2ae5c9vceebJ_L3xI54ALRxirmCzQ=s64",
      "userId": "13907719580552897752"
     },
     "user_tz": 240
    },
    "id": "ooTEfSDSgitO",
    "outputId": "ead3525e-7e95-4e5d-f579-7217c9a313c4"
   },
   "outputs": [
    {
     "name": "stdout",
     "output_type": "stream",
     "text": [
      "+--------------+-----------+-------------+-----------+----+-----------------+\n",
      "|     review_id|star_rating|helpful_votes|total_votes|vine|verified_purchase|\n",
      "+--------------+-----------+-------------+-----------+----+-----------------+\n",
      "|R2FP3U4NHNFNL2|          5|           25|         29|   N|                Y|\n",
      "|R1UUK1977O38MU|          5|           31|         31|   N|                Y|\n",
      "| RXO216LWUDV6O|          3|           29|         31|   N|                Y|\n",
      "|R3NMJF7EBMM19V|          3|           26|         27|   N|                Y|\n",
      "|R2ZY0ZBDUO0XUY|          3|           20|         21|   N|                Y|\n",
      "| RBDVHX7PMQEKM|          5|           35|         39|   N|                Y|\n",
      "| RGO3KSDXYWTGU|          4|           26|         26|   N|                Y|\n",
      "|R1E1PQGHWGO3Q1|          1|           89|         96|   N|                Y|\n",
      "|R1XOXXUVYZEDJB|          5|           22|         22|   N|                Y|\n",
      "| R7SHITUU5UG9U|          5|           27|         27|   N|                Y|\n",
      "|R230TLHU91M5Y3|          4|           21|         21|   N|                Y|\n",
      "| RHR5MKO23K9TU|          5|           26|         30|   N|                Y|\n",
      "|R1HGK3TCY161D7|          5|           52|         55|   N|                N|\n",
      "|R340QYAVNZZHJA|          4|           25|         25|   N|                N|\n",
      "|R2F1UVQK0JL4QH|          3|           20|         20|   N|                Y|\n",
      "|R1N21UY546VWMN|          2|           48|         50|   N|                Y|\n",
      "|R1E4L344EK0ZOT|          5|           20|         26|   N|                N|\n",
      "|R282QUZDDJW3ON|          4|           45|         49|   N|                Y|\n",
      "|R3H5T3T7QY3ZL2|          5|          247|        263|   N|                Y|\n",
      "|R3W1A1P95IIGHX|          5|           23|         25|   N|                N|\n",
      "+--------------+-----------+-------------+-----------+----+-----------------+\n",
      "only showing top 20 rows\n",
      "\n"
     ]
    }
   ],
   "source": [
    "vine_df_hv = vine_df_filtered.filter(\"helpful_votes/total_votes>=0.5\")\n",
    "vine_df_hv.show()"
   ]
  },
  {
   "cell_type": "code",
   "execution_count": 14,
   "metadata": {
    "colab": {
     "base_uri": "https://localhost:8080/"
    },
    "executionInfo": {
     "elapsed": 4923,
     "status": "ok",
     "timestamp": 1628959657961,
     "user": {
      "displayName": "Andrei Gerashchenko",
      "photoUrl": "https://lh3.googleusercontent.com/a-/AOh14GiMsmAf_fj7m2ae5c9vceebJ_L3xI54ALRxirmCzQ=s64",
      "userId": "13907719580552897752"
     },
     "user_tz": 240
    },
    "id": "ywuEVIJOjxBQ",
    "outputId": "60e9ab73-f08e-4067-d90c-58d086a912a2"
   },
   "outputs": [
    {
     "name": "stdout",
     "output_type": "stream",
     "text": [
      "+--------------+-----------+-------------+-----------+----+-----------------+\n",
      "|     review_id|star_rating|helpful_votes|total_votes|vine|verified_purchase|\n",
      "+--------------+-----------+-------------+-----------+----+-----------------+\n",
      "|R3KPC0NBUDASX3|          5|           25|         25|   Y|                N|\n",
      "|R119P2A95GGXX4|          5|           26|         28|   Y|                N|\n",
      "|R1HKIRME8AJ89Z|          5|           79|         82|   Y|                N|\n",
      "|R3FY3GMBGOBR22|          5|           12|         20|   Y|                N|\n",
      "|R15KH3FBSVYGBU|          5|           32|         37|   Y|                N|\n",
      "|R22XZEQLVLWW49|          5|           28|         33|   Y|                N|\n",
      "|R2OIQYVAL9D63R|          4|           59|         65|   Y|                N|\n",
      "|R1W3KCDHM6BMZT|          4|           37|         38|   Y|                N|\n",
      "|R3KDMPS96IJ10R|          2|           15|         21|   Y|                N|\n",
      "|R1XWEI58A7VKLB|          5|          123|        128|   Y|                N|\n",
      "|R1CJWM6CMWKSA1|          4|           31|         33|   Y|                N|\n",
      "|R39I3FUDBKZM3Y|          5|           34|         38|   Y|                N|\n",
      "|R32LU0KSL7QWSF|          5|           35|         37|   Y|                N|\n",
      "|R2LGDXO3MG2WQW|          5|           37|         41|   Y|                N|\n",
      "|R16AVI2NTYWLKI|          5|           31|         33|   Y|                N|\n",
      "|R12K0ITIV6AYM3|          5|           34|         34|   Y|                N|\n",
      "| R9ILZLNNK93CO|          5|           38|         39|   Y|                N|\n",
      "|R1CS8VSI1KSR1P|          5|           21|         22|   Y|                N|\n",
      "|R186TCIH8TEGPY|          5|           40|         43|   Y|                N|\n",
      "| R3GBQRR2GY4SP|          4|          119|        125|   Y|                N|\n",
      "+--------------+-----------+-------------+-----------+----+-----------------+\n",
      "only showing top 20 rows\n",
      "\n"
     ]
    }
   ],
   "source": [
    "vine_df_hv_paid = vine_df_hv.filter(\"vine == 'Y'\")\n",
    "vine_df_hv_paid.show()"
   ]
  },
  {
   "cell_type": "code",
   "execution_count": 15,
   "metadata": {
    "colab": {
     "base_uri": "https://localhost:8080/"
    },
    "executionInfo": {
     "elapsed": 372,
     "status": "ok",
     "timestamp": 1628959703248,
     "user": {
      "displayName": "Andrei Gerashchenko",
      "photoUrl": "https://lh3.googleusercontent.com/a-/AOh14GiMsmAf_fj7m2ae5c9vceebJ_L3xI54ALRxirmCzQ=s64",
      "userId": "13907719580552897752"
     },
     "user_tz": 240
    },
    "id": "JPAB2qYukE_S",
    "outputId": "3aa9d3fe-833c-4bef-9e4a-f96a6c00b509"
   },
   "outputs": [
    {
     "name": "stdout",
     "output_type": "stream",
     "text": [
      "+--------------+-----------+-------------+-----------+----+-----------------+\n",
      "|     review_id|star_rating|helpful_votes|total_votes|vine|verified_purchase|\n",
      "+--------------+-----------+-------------+-----------+----+-----------------+\n",
      "|R2FP3U4NHNFNL2|          5|           25|         29|   N|                Y|\n",
      "|R1UUK1977O38MU|          5|           31|         31|   N|                Y|\n",
      "| RXO216LWUDV6O|          3|           29|         31|   N|                Y|\n",
      "|R3NMJF7EBMM19V|          3|           26|         27|   N|                Y|\n",
      "|R2ZY0ZBDUO0XUY|          3|           20|         21|   N|                Y|\n",
      "| RBDVHX7PMQEKM|          5|           35|         39|   N|                Y|\n",
      "| RGO3KSDXYWTGU|          4|           26|         26|   N|                Y|\n",
      "|R1E1PQGHWGO3Q1|          1|           89|         96|   N|                Y|\n",
      "|R1XOXXUVYZEDJB|          5|           22|         22|   N|                Y|\n",
      "| R7SHITUU5UG9U|          5|           27|         27|   N|                Y|\n",
      "|R230TLHU91M5Y3|          4|           21|         21|   N|                Y|\n",
      "| RHR5MKO23K9TU|          5|           26|         30|   N|                Y|\n",
      "|R1HGK3TCY161D7|          5|           52|         55|   N|                N|\n",
      "|R340QYAVNZZHJA|          4|           25|         25|   N|                N|\n",
      "|R2F1UVQK0JL4QH|          3|           20|         20|   N|                Y|\n",
      "|R1N21UY546VWMN|          2|           48|         50|   N|                Y|\n",
      "|R1E4L344EK0ZOT|          5|           20|         26|   N|                N|\n",
      "|R282QUZDDJW3ON|          4|           45|         49|   N|                Y|\n",
      "|R3H5T3T7QY3ZL2|          5|          247|        263|   N|                Y|\n",
      "|R3W1A1P95IIGHX|          5|           23|         25|   N|                N|\n",
      "+--------------+-----------+-------------+-----------+----+-----------------+\n",
      "only showing top 20 rows\n",
      "\n"
     ]
    }
   ],
   "source": [
    "vine_df_hv_unpaid = vine_df_hv.filter(\"vine == 'N'\")\n",
    "vine_df_hv_unpaid.show()"
   ]
  },
  {
   "cell_type": "code",
   "execution_count": 93,
   "metadata": {
    "colab": {
     "base_uri": "https://localhost:8080/"
    },
    "executionInfo": {
     "elapsed": 58746,
     "status": "ok",
     "timestamp": 1628966482483,
     "user": {
      "displayName": "Andrei Gerashchenko",
      "photoUrl": "https://lh3.googleusercontent.com/a-/AOh14GiMsmAf_fj7m2ae5c9vceebJ_L3xI54ALRxirmCzQ=s64",
      "userId": "13907719580552897752"
     },
     "user_tz": 240
    },
    "id": "UN79a_65rnAh",
    "outputId": "2ecbf91a-4f2a-4d2b-8ff3-ddfac651dcf4"
   },
   "outputs": [
    {
     "name": "stdout",
     "output_type": "stream",
     "text": [
      "+------+------------------+-------------------+\n",
      "|  Type|total_review_count|5star_review_coiunt|\n",
      "+------+------------------+-------------------+\n",
      "|  paid|               107|                 56|\n",
      "|unpaid|             39869|              21005|\n",
      "+------+------------------+-------------------+\n",
      "\n"
     ]
    }
   ],
   "source": [
    "review_analysis = spark.createDataFrame([\n",
    "                                   (\"paid\", vine_df_hv_paid.agg({'star_rating':'count'}).collect()[0][0], vine_df_hv_paid.filter(\"star_rating==5\").agg({'star_rating':'count'}).collect()[0][0]),\n",
    "                                   (\"unpaid\", vine_df_hv_unpaid.agg({'star_rating':'count'}).collect()[0][0], vine_df_hv_unpaid.filter(\"star_rating==5\").agg({'star_rating':'count'}).collect()[0][0]),\n",
    "                                   \n",
    "], [\"Type\", \"total_review_count\", \"5star_review_coiunt\"])\n",
    "review_analysis.show()"
   ]
  },
  {
   "cell_type": "code",
   "execution_count": 112,
   "metadata": {
    "executionInfo": {
     "elapsed": 145,
     "status": "ok",
     "timestamp": 1628967600630,
     "user": {
      "displayName": "Andrei Gerashchenko",
      "photoUrl": "https://lh3.googleusercontent.com/a-/AOh14GiMsmAf_fj7m2ae5c9vceebJ_L3xI54ALRxirmCzQ=s64",
      "userId": "13907719580552897752"
     },
     "user_tz": 240
    },
    "id": "liYtiYpCCHhA"
   },
   "outputs": [],
   "source": [
    "from pyspark.sql.functions import ceil\n"
   ]
  },
  {
   "cell_type": "code",
   "execution_count": 116,
   "metadata": {
    "colab": {
     "base_uri": "https://localhost:8080/"
    },
    "executionInfo": {
     "elapsed": 300,
     "status": "ok",
     "timestamp": 1628967639485,
     "user": {
      "displayName": "Andrei Gerashchenko",
      "photoUrl": "https://lh3.googleusercontent.com/a-/AOh14GiMsmAf_fj7m2ae5c9vceebJ_L3xI54ALRxirmCzQ=s64",
      "userId": "13907719580552897752"
     },
     "user_tz": 240
    },
    "id": "XqgXDu0O3eEt",
    "outputId": "64b02969-7f44-45c9-a440-558428b0d05b"
   },
   "outputs": [
    {
     "name": "stdout",
     "output_type": "stream",
     "text": [
      "+------+------------------+-------------------+----------------+\n",
      "|  Type|total_review_count|5star_review_coiunt|5star_persentage|\n",
      "+------+------------------+-------------------+----------------+\n",
      "|  paid|               107|                 56|              53|\n",
      "|unpaid|             39869|              21005|              53|\n",
      "+------+------------------+-------------------+----------------+\n",
      "\n"
     ]
    }
   ],
   "source": [
    "review_analysis = review_analysis.withColumn(\"5star_persentage\", ceil(review_analysis['5star_review_coiunt']/review_analysis['total_review_count']*100))\n",
    "review_analysis.show()"
   ]
  }
 ],
 "metadata": {
  "colab": {
   "authorship_tag": "ABX9TyNXmvz9Ic8UY86K0/06pMBy",
   "collapsed_sections": [],
   "name": "Vine_Review_Analysis.ipynb",
   "provenance": []
  },
  "kernelspec": {
   "display_name": "Python 3",
   "language": "python",
   "name": "python3"
  },
  "language_info": {
   "codemirror_mode": {
    "name": "ipython",
    "version": 3
   },
   "file_extension": ".py",
   "mimetype": "text/x-python",
   "name": "python",
   "nbconvert_exporter": "python",
   "pygments_lexer": "ipython3",
   "version": "3.8.5"
  }
 },
 "nbformat": 4,
 "nbformat_minor": 1
}
